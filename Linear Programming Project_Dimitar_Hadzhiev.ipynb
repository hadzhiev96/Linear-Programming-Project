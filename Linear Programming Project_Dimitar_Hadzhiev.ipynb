{
 "cells": [
  {
   "cell_type": "code",
   "execution_count": 265,
   "id": "97c83452",
   "metadata": {},
   "outputs": [],
   "source": [
    "import numpy as np\n",
    "import matplotlib.pyplot as plt\n",
    "import sympy as sym\n",
    "import pandas as pd\n",
    "import math"
   ]
  },
  {
   "cell_type": "markdown",
   "id": "50b84e60",
   "metadata": {},
   "source": [
    "### Abstract\n",
    "\n",
    "Optimization plays a crucial role part in our lives and ignoring it would be foolish and may result in dire consequences. Optimization is a key concept not only in mathematics, computer science, and operations research but also it is essential to the modelling of any system, playing an integral role in computer-aided design (Sukanta Nayak, 2020). \n",
    "\n",
    "In recent years, optimization techniques become a considerable part of each system and are applicable in a wide spectrum of industries aerospace, chemical, electrical, electronics, mining, mechanical, information technology, finance, and e-commerce sectors (H  Paul Williams & Wiley, 2013). As the topic of optimization is too wide and complex to be discussed in one article, this paper will serve as an introduction and demonstration of the power and usefull application of linear programming and convex optimization.\n",
    "\n",
    "\n",
    "First of all the logic behind the process will be explained and an example problem shall be solved to illustrate the application of the concepts in practice. Secondly after the building blocks of linear programming have been presented the article will provide an real-world application of the theory. We will apply linear programming to the realm of finance. Finally the conclusion will reflect on the limitations on linear programing and further posibilities for research."
   ]
  },
  {
   "cell_type": "markdown",
   "id": "f7635a54",
   "metadata": {},
   "source": [
    "### What is Linear programming?\n",
    "\n",
    "We will start with a small, pure math problem that will illustrate what linear programming is and its main parts. Lets say we\n",
    "have the problem:\n",
    "\n",
    "maximize: $z = x + 2y$\n",
    "\n",
    "subject to:\n",
    "\n",
    "$2x + y \\le 20$\n",
    "\n",
    "$-4x + 5y \\le 10$\n",
    "\n",
    "$-x + 2y \\geq -2$\n",
    "\n",
    "$x \\geq 0$\n",
    "\n",
    "$y \\geq 0$\n",
    "\n",
    "The model above illustrates some of the essential features of an LP model:\n",
    "1. There is a single linear expression (the objective function) to be maximized\n",
    "or minimized.\n",
    "2. There is a series of constraints in the form of linear expressions, which\n",
    "must not exceed (≤) some speciﬁed value. LP constraints can also be of the\n",
    "form ‘≥’and‘=’, indicating that the value of certain linear expressions\n",
    "must not fall below a speciﬁed value or must exactly equal a speciﬁed\n",
    "value.\n",
    "3. The set of coefﬁcients 20,10,-2, on the right-hand sides of constraints\n",
    "is generally known as the right-hand side column.\n",
    "Practical models will, of course, be much bigger (more variables and\n",
    "constraints) and more complicated but they must always have the above three\n",
    "essential features. \n",
    "\n",
    "\n",
    "Lets graph them to get a more clear idea how the constraints look. To make it easier we will use slop intercept form of the above inequalities.\n",
    "\n"
   ]
  },
  {
   "cell_type": "code",
   "execution_count": 266,
   "id": "a799d260",
   "metadata": {},
   "outputs": [
    {
     "data": {
      "image/png": "[encoded data removed]",
      "text/plain": [
       "<Figure size 432x288 with 1 Axes>"
      ]
     },
     "metadata": {
      "needs_background": "light"
     },
     "output_type": "display_data"
    }
   ],
   "source": [
    "x,y = sym.symbols('x,y')\n",
    "\n",
    "# We present the expressions in 'ax + b = 0' form in order to asign them to variables\n",
    "constraint_1 = 2*x+y-20\n",
    "constraint_2 =-4*x+5*y-10\n",
    "constraint_3= x-2*y-2\n",
    "\n",
    "# We take the symbolic expressions  we solve for 'y' and we convert them to numeric expressions.\n",
    "x_values = np.linspace(0,30,100)\n",
    "\n",
    "\n",
    "np_constraint_1 = sym.lambdify(x,sym.solve(constraint_1,y)[0])(x_values)\n",
    "np_constraint_2 = sym.lambdify(x,sym.solve(constraint_2,y)[0])(x_values)\n",
    "np_constraint_3 = sym.lambdify(x,sym.solve(constraint_3,y)[0])(x_values)\n",
    "\n",
    "# Plotting\n",
    "fig, ax = plt.subplots()\n",
    "plt.plot(x_values,np_constraint_1,'r-', label = r'$2x + y \\leq 20$')\n",
    "plt.plot(x_values,np_constraint_2,'b-', label = r'$-4x + 5y \\leq 10$')\n",
    "plt.plot(x_values,np_constraint_3,'y-', label = r'$-x + 2y \\geq -2$')\n",
    "\n",
    "ax = plt.gca()\n",
    "ax.set_xlim([0, 10])\n",
    "ax.set_ylim([0, 10])\n",
    "plt.xlabel('x values')\n",
    "plt.ylabel('y values')\n",
    "plt.title('Example problem',fontdict={'family': 'constantia',\n",
    "        'color':  'darkred',\n",
    "        'weight': 'normal',\n",
    "        'size': 26,\n",
    "        })\n",
    "plt.grid()\n",
    "\n",
    "\n",
    "ax.fill_between(x_values,np_constraint_3, color = 'yellow', alpha =.4)\n",
    "ax.fill_between(x_values,np_constraint_2,np_constraint_3, color = 'grey', alpha=.4,label= 'Feasible region')\n",
    "ax.fill_between(x_values,np_constraint_1,np.max(np_constraint_1),color = 'red', alpha = .4)\n",
    "ax.fill_between(x_values,np_constraint_2,np.max(np_constraint_2), color = 'blue', alpha =.4)\n",
    "ax.legend(bbox_to_anchor=(1.05, 1), loc=2)\n",
    "plt.show()"
   ]
  },
  {
   "cell_type": "markdown",
   "id": "4e099b82",
   "metadata": {},
   "source": [
    "Looking at the graph we can see that our function $z = x + 2y$ has all of its feasible solutions, the one that satisfy all its constraints, in the grey area of the graph. However we are interested in the optmial solution, the best option for us considering the parameters we have. We can try to solve this prolbem more or less by hand using, for example, the Simplex algorithm the first practical procedure used to solve the LP problem created by (“Simplex Algorithm - an Overview | ScienceDirect Topics,” 2021).\n",
    "\n",
    "The algorithm used by the satandard PuLP solver is based on simplex. However, like most solvers, it combines simplex with many other algorithms such as branch-and-bound and cut-generation (pchtsp, 2021). \n",
    "\n",
    "Without further ado lets jump into coding the solution for our problem."
   ]
  },
  {
   "cell_type": "code",
   "execution_count": 267,
   "id": "e83f70a0",
   "metadata": {},
   "outputs": [],
   "source": [
    "#We import the necessary packages\n",
    "from pulp import *"
   ]
  },
  {
   "cell_type": "markdown",
   "id": "97ae9d89",
   "metadata": {},
   "source": [
    "First we need to create an instance of an linear programming problem and our object function variables"
   ]
  },
  {
   "cell_type": "code",
   "execution_count": 268,
   "id": "afdee444",
   "metadata": {},
   "outputs": [],
   "source": [
    "# Initialize a maximization problem by giving a value of '-1' to the 'sense' parameter\n",
    "example_model = LpProblem(name=\"example-problem\", sense=-1)\n",
    "\n",
    "# Initialize the decision variables. We set 'lowBound' to '0' as the default value is negative infinity\n",
    "x = LpVariable(name=\"x\", lowBound=0)\n",
    "y = LpVariable(name=\"y\", lowBound=0)"
   ]
  },
  {
   "cell_type": "markdown",
   "id": "fcd9a589",
   "metadata": {},
   "source": [
    "Now we can use the newly created PuLP variables 'x' and 'y' to form our constraints and add them to our model. We don’t need to create lists or matrices. PuLP offers us the ease to just write our constraints as normal expressions in tuple form and add them to the model with the '+=' operator.\n",
    "\n",
    "$2x + y \\le 20$\n",
    "\n",
    "$-4x + 5y \\le 10$\n",
    "\n",
    "$-x + 2y \\geq -2$\n"
   ]
  },
  {
   "cell_type": "code",
   "execution_count": 269,
   "id": "37719100",
   "metadata": {},
   "outputs": [],
   "source": [
    "# Add the constraints to the model\n",
    "example_model += (2 * x + y <= 20)\n",
    "example_model += (4 * x - 5 * y >= -10)\n",
    "example_model += (-x + 2 * y >= -2)\n",
    "\n",
    "#Add the objective function\n",
    "example_model += x + 2*y"
   ]
  },
  {
   "cell_type": "markdown",
   "id": "75da1c14",
   "metadata": {},
   "source": [
    "Now as we have added all of the elements to our 'model' we can call it to get a string summary of everything in our LP model: varaibles, constraints, objectives etc."
   ]
  },
  {
   "cell_type": "code",
   "execution_count": 270,
   "id": "823adebe",
   "metadata": {},
   "outputs": [
    {
     "data": {
      "text/plain": [
       "example-problem:\n",
       "MAXIMIZE\n",
       "1*x + 2*y + 0\n",
       "SUBJECT TO\n",
       "_C1: 2 x + y <= 20\n",
       "\n",
       "_C2: 4 x - 5 y >= -10\n",
       "\n",
       "_C3: - x + 2 y >= -2\n",
       "\n",
       "VARIABLES\n",
       "x Continuous\n",
       "y Continuous"
      ]
     },
     "execution_count": 270,
     "metadata": {},
     "output_type": "execute_result"
    }
   ],
   "source": [
    "example_model"
   ]
  },
  {
   "cell_type": "markdown",
   "id": "f8352a02",
   "metadata": {},
   "source": [
    "Finally, we’re ready to solve the problem. We can do that by calling .solve() on our model object. We want to use the default solver and therefore we will not pass any arguments. .solve() calls the underlying solver, modifies the model object, and returns the integer status of the solution, which will be 1 if the optimum is found.\n",
    "\n",
    "You can get the optimization results as the attributes of model. The function value() and the corresponding method .value() return the actual values of the attributes:"
   ]
  },
  {
   "cell_type": "code",
   "execution_count": 271,
   "id": "4c7f4bb4",
   "metadata": {},
   "outputs": [
    {
     "name": "stdout",
     "output_type": "stream",
     "text": [
      "Status: Optimal\n"
     ]
    }
   ],
   "source": [
    "example_model.solve()\n",
    "print(\"Status:\", LpStatus[example_model.status])"
   ]
  },
  {
   "cell_type": "markdown",
   "id": "26c8e101",
   "metadata": {},
   "source": [
    "Now the results of the solver call can be displayed as output to us. Firstly, we request the status of the solution, which can be one of “Not Solved”, “Infeasible”, “Unbounded”, “Undefined” or “Optimal”. The value of prob (pulp.pulp.LpProblem.status) is returned as an integer, which must be converted to its significant text meaning using the LpStatus dictionary. Since LpStatus is a dictionary(dict), its input must be in square brackets:"
   ]
  },
  {
   "cell_type": "code",
   "execution_count": 272,
   "id": "ca78af7e",
   "metadata": {},
   "outputs": [
    {
     "name": "stdout",
     "output_type": "stream",
     "text": [
      "Status: Optimal\n",
      "x = 6.42857\n",
      "y = 7.14286\n"
     ]
    }
   ],
   "source": [
    "# The status of the solution is printed to the screen\n",
    "print(\"Status:\", LpStatus[example_model.status])\n",
    "\n",
    "# Each of the variables is printed with it's resolved optimum value\n",
    "xy=[]\n",
    "for variable in example_model.variables():\n",
    "    xy.append(variable.varValue)\n",
    "    print(variable.name, \"=\", variable.varValue)\n",
    "    \n"
   ]
  },
  {
   "cell_type": "markdown",
   "id": "a1250b1d",
   "metadata": {},
   "source": [
    "As we now have the soloution to our linear programming problem we can plot it on our graph"
   ]
  },
  {
   "cell_type": "code",
   "execution_count": 273,
   "id": "21b88914",
   "metadata": {},
   "outputs": [
    {
     "data": {
      "image/png": "[encoded data removed]",
      "text/plain": [
       "<Figure size 432x288 with 1 Axes>"
      ]
     },
     "execution_count": 273,
     "metadata": {},
     "output_type": "execute_result"
    }
   ],
   "source": [
    "ax.plot(xy[0],xy[1],'ks',label = 'Optimal Solution')\n",
    "ax.legend(bbox_to_anchor=(1.05, 1), loc=2)\n",
    "fig"
   ]
  },
  {
   "cell_type": "markdown",
   "id": "86bf0571",
   "metadata": {},
   "source": [
    "The solution once plotted can be verified on an intuitive level. The optimal point is maximizing both 'x' and 'y' but not breaking any of the constraints. \n",
    "\n",
    "However how does exactly the solver works? We will take another simple linear programming problem and we will apply the simplex algorithm to it and solve it by hand, after which we shall apply the PuLP solver to see if get the same answer! The example will be by no means complicated but this will be done in the interest of time, our aim here is to shed some light on the inner workings of the PuLP solver, again having in mind that the algorithms used there are more advanced."
   ]
  },
  {
   "cell_type": "markdown",
   "id": "5fd90b2b",
   "metadata": {},
   "source": [
    "### Simplex Method \n",
    "\n",
    "\n",
    "Our little problem:\n",
    "\n",
    "Maximize $P = 3x + 4y + z$\n",
    "Subject to:\n",
    "\n",
    "$3x + 10y + 5z \\le 120$\n",
    "\n",
    "$5x + 2y + 8z \\le 6$\n",
    "\n",
    "$8x + 10y + 3z \\le 105$\n",
    "\n",
    "$ x,y,z \\ge 0$\n",
    "\n",
    "\n",
    "Our first step is to present the linear problem and its constraints in linear form. How do we do that? We add something called slack variables (Savov, 2020). Wherever we have $\\le$ we add a variable and wherever we have $\\ge$ we substract one. So lets rewrite our constraints.\n",
    "\n",
    "$3x + 10y + 5z + v = 120$\n",
    "\n",
    "$5x + 2y + 8z + u = 6$\n",
    "\n",
    "$8x + 10y + 3z + w = 105$\n",
    "\n",
    "Now it is time to transform the objective function into linear form as well. We want to keep the function variable positive and the decision variables negative so we move everything to the left side of the equation. \n",
    "\n",
    "$-3x -4y -z + P = 0$\n",
    "\n",
    "From an equational form, we express the linear program in the form of a simplex tableau.\n",
    "\n",
    "| x  | y  | z  | v | u | w | P |     |\n",
    "|----|----|----|---|---|---|---|-----|\n",
    "| 3  | 10 | 5  | 1 | 0 | 0 | 0 | 120 |\n",
    "| 5  | 2  | 8  | 0 | 1 | 0 | 0 | 6   |\n",
    "| 8  | 10 | 3  | 0 | 0 | 1 | 0 | 105 |\n",
    "| -3 | -4 | -1 | 0 | 0 | 0 | 1 | 0   |\n",
    "\n",
    "\n",
    "In the tableu we have all the variables from our linear program and their coresponding terms in the constraints, the first three rows, and the objective function the last one. Now if we look closer we can see that the variables v,u,w and P have values in only one of the rows in the tableu, and zero in all other rows. We call these basic variables. \n",
    "\n",
    "To be more precise if the column of the variriable is cleared out and has only one non-zero element in it, then that variable is a basic variable. If a column is not cleared out and has more than one non-zero element in it, that variable is non-basic and the value of that variable is zero. The values of all non-basic variables (columns with more than one number in them) are zero. In this tableau, that would be x, y and z.\n",
    "\n",
    "Next step is to pick the pivot column. To do this we need to think about the objective function. We need to maximize P and the biggest term '4' is behind the variable 'y' so its logical to start optimizing from there. To get our pivot row we divide the constraints and objective function value with the terms from the pivot column:\n",
    "\n",
    "| x  | y  | z  | v | u | w | P |     |      |\n",
    "|----|----|----|---|---|---|---|-----|------|\n",
    "| 3  | 10 | 5  | 1 | 0 | 0 | 0 | 120 | 12   |\n",
    "| 5  | 2  | 8  | 0 | 1 | 0 | 0 | 6   | 3    |\n",
    "| 8  | 10 | 3  | 0 | 0 | 1 | 0 | 105 | 10.5 |\n",
    "| -3 | -4 | -1 | 0 | 0 | 0 | 1 | 0   | 0    |\n",
    "\n",
    "\n",
    "The pivot row is the row that has the smallest non-negative ratio. If no non-negative ratios can be found, stop, the problem doesn't have a solution (Savov, 2020). Now we look at the intersection of pivot row and pivot column to see which will be the pivot element. For us that will be the second row of the second column or the 'y' term 2. Our goal is to turn 'y' from non-basic to basic variable in the tableu. Our first step of doing this is to divide the whole pivot row by the pivot value, this is to divide row 2 by the value 2\n",
    "\n",
    "| x   | y  | z  | v | u   | w | P |     |\n",
    "|-----|----|----|---|-----|---|---|-----|\n",
    "| 3   | 10 | 5  | 1 | 0   | 0 | 0 | 120 |\n",
    "| 2.5 | 1  | 4  | 0 | 0.5 | 0 | 0 | 3   |\n",
    "| 8   | 10 | 3  | 0 | 0   | 1 | 0 | 105 |\n",
    "| -3  | -4 | -1 | 0 | 0   | 0 | 1 | 0   |\n",
    "\n",
    "\n",
    "Great! Now we must think of a way to turn the other values of 'y' into zeroes in order for it to become basic. We do it in the following way:\n",
    "\n",
    "$Row_{1} - 10*Row_{2}$\n",
    "\n",
    "$Row_{3} - 10*Row_{2}$\n",
    "\n",
    "$Row_{4} + 4Row_{2}$\n",
    "\n",
    "| x   | y | z   | v | u   | w | P |    |\n",
    "|-----|---|-----|---|-----|---|---|----|\n",
    "| -22 | 0 | -35 | 1 | -5  | 0 | 0 | 90 |\n",
    "| 2.5 | 1 | 4   | 0 | 0.5 | 0 | 0 | 3  |\n",
    "| -17 | 0 | -37 | 0 | -5  | 1 | 0 | 75 |\n",
    "| 7   | 0 | 15  | 0 | 2   | 0 | 1 | 12 |\n",
    "\n",
    "\n",
    "\n",
    "Great we succeeded with our task to make y non basic. Now our next step is to rinse and repeat, however we can see that there are no negative values in the bottom row which means that our work is done and we have reached the optimal solution. Lets read the tableu. We look at only the basic variables and we get their values from the far most right column\n",
    "\n",
    "We get:\n",
    "\n",
    "$y = 3$\n",
    "\n",
    "$v = 90$\n",
    "\n",
    "$w = 75$\n",
    "\n",
    "And the Maximum value of our function 'P' is:\n",
    "\n",
    "$P = 12$\n",
    "\n",
    "If we plug the 'y' term in the objective function we clearly see that the result will 12, we also clearly see that this result satisfies all of the uppermentioned constraints. However we also see that the slack variables 'v' and 'w' have values, what does this tell us? Slack variable values can mean three things:\n",
    "\n",
    "1. If a slack variable associated with a constraint is zero at a particular candidate solution, the constraint is binding there, as the constraint restricts the possible changes from that point.(Wikipedia contributors, 2022)\n",
    "2. If a slack variable is positive at a particular candidate solution, the constraint is non-binding there, as the constraint does not restrict the possible changes from that point.(Wikipedia contributors, 2022)\n",
    "3. If a slack variable is negative at some point, the point is infeasible (not allowed), as it does not satisfy the constraint.(Wikipedia contributors, 2022)\n",
    "\n",
    "Now the question is will Python agrree with our result? Lets find out!"
   ]
  },
  {
   "cell_type": "code",
   "execution_count": 274,
   "id": "c3c638c5",
   "metadata": {},
   "outputs": [
    {
     "name": "stdout",
     "output_type": "stream",
     "text": [
      "x = 0.0\n",
      "y = 3.0\n",
      "z = 0.0\n"
     ]
    }
   ],
   "source": [
    "simplex_model = LpProblem(name=\"simplex_example\", sense=LpMaximize)\n",
    "\n",
    "x = LpVariable(name=\"x\", lowBound=0)\n",
    "y = LpVariable(name=\"y\", lowBound=0)\n",
    "z = LpVariable(name=\"z\", lowBound=0)\n",
    "\n",
    "simplex_model += 3*x + 4*y + z\n",
    "\n",
    "simplex_model += (3*x +10*y+5*z <= 120)\n",
    "simplex_model += (5*x +2*y+8*z <= 6)\n",
    "simplex_model += (8*x +10*y+3*z <= 105)\n",
    "\n",
    "\n",
    "status = simplex_model.solve()\n",
    "\n",
    "simplex_variables=[]\n",
    "for variable in simplex_model.variables():\n",
    "    simplex_variables.append(variable.varValue)\n",
    "    print(variable.name, \"=\", variable.varValue)\n"
   ]
  },
  {
   "cell_type": "markdown",
   "id": "243499f2",
   "metadata": {},
   "source": [
    "Well we can say our hand-math skills are not so rusty! \n",
    "$y = 3$ just as we expected. This comaprison between the PuLP solver and our manual take on the problem only shows the beauty and imagination between the power of Python. A few lines of code to crack something we needed few pages and several tables. How about if the problem was bit more complex. If we had to do 5 pivots, 15, 100? Solving linear programmign problems by hand is simply unfeasable and that is why we rely on libraries like PuLP that do the work for us. \n",
    "\n",
    "However it is never without use to get a small peak under the hood and see how the engine really works, after all one day we might want to build an engine of our own."
   ]
  },
  {
   "cell_type": "markdown",
   "id": "7f9df5ab",
   "metadata": {},
   "source": [
    "### Optimizing investments\n",
    "\n",
    "Latest data shows that 58% of americans invest in stocks(Saad, 2019) and the trends are that more and more young people are getting into investing, regardless of the asset at hand. However 90% of people lose money on the stockmarket (Chanda, 2021). As with everything we do it would be wiser to approach the subject in a more scientific way and what better way to try to tackle the problem but with our recently acquired skills in linear programming!\n",
    "\n",
    "Lets say we have the following investment opportunities"
   ]
  },
  {
   "cell_type": "code",
   "execution_count": 478,
   "id": "dd4b5a76",
   "metadata": {},
   "outputs": [
    {
     "data": {
      "text/html": [
       "<div>\n",
       "<style scoped>\n",
       "    .dataframe tbody tr th:only-of-type {\n",
       "        vertical-align: middle;\n",
       "    }\n",
       "\n",
       "    .dataframe tbody tr th {\n",
       "        vertical-align: top;\n",
       "    }\n",
       "\n",
       "    .dataframe thead th {\n",
       "        text-align: right;\n",
       "    }\n",
       "</style>\n",
       "<table border=\"1\" class=\"dataframe\">\n",
       "  <thead>\n",
       "    <tr style=\"text-align: right;\">\n",
       "      <th></th>\n",
       "      <th>Designation</th>\n",
       "      <th>Potential Investment</th>\n",
       "      <th>Expected Return</th>\n",
       "      <th>Rating</th>\n",
       "      <th>Risk</th>\n",
       "      <th>Liquidity</th>\n",
       "    </tr>\n",
       "  </thead>\n",
       "  <tbody>\n",
       "    <tr>\n",
       "      <th>0</th>\n",
       "      <td>x1</td>\n",
       "      <td>DSK account</td>\n",
       "      <td>0.040</td>\n",
       "      <td>A</td>\n",
       "      <td>0.0280</td>\n",
       "      <td>Immediate</td>\n",
       "    </tr>\n",
       "    <tr>\n",
       "      <th>1</th>\n",
       "      <td>x2</td>\n",
       "      <td>Tokuda Certificate of Deposit</td>\n",
       "      <td>0.052</td>\n",
       "      <td>A</td>\n",
       "      <td>0.0208</td>\n",
       "      <td>5-year</td>\n",
       "    </tr>\n",
       "    <tr>\n",
       "      <th>2</th>\n",
       "      <td>x3</td>\n",
       "      <td>7/8 production studio</td>\n",
       "      <td>0.071</td>\n",
       "      <td>B+</td>\n",
       "      <td>0.0284</td>\n",
       "      <td>Immediate</td>\n",
       "    </tr>\n",
       "    <tr>\n",
       "      <th>3</th>\n",
       "      <td>x4</td>\n",
       "      <td>Fantastico</td>\n",
       "      <td>0.100</td>\n",
       "      <td>B+</td>\n",
       "      <td>0.0400</td>\n",
       "      <td>Immediate</td>\n",
       "    </tr>\n",
       "    <tr>\n",
       "      <th>4</th>\n",
       "      <td>x5</td>\n",
       "      <td>UBB anuity</td>\n",
       "      <td>0.082</td>\n",
       "      <td>A</td>\n",
       "      <td>0.0328</td>\n",
       "      <td>1-year</td>\n",
       "    </tr>\n",
       "    <tr>\n",
       "      <th>5</th>\n",
       "      <td>x6</td>\n",
       "      <td>Mini Pernik Bonds</td>\n",
       "      <td>0.065</td>\n",
       "      <td>B+</td>\n",
       "      <td>0.0260</td>\n",
       "      <td>1-year</td>\n",
       "    </tr>\n",
       "    <tr>\n",
       "      <th>6</th>\n",
       "      <td>x7</td>\n",
       "      <td>BTV group</td>\n",
       "      <td>0.200</td>\n",
       "      <td>A</td>\n",
       "      <td>0.0800</td>\n",
       "      <td>Immediate</td>\n",
       "    </tr>\n",
       "    <tr>\n",
       "      <th>7</th>\n",
       "      <td>x8</td>\n",
       "      <td>Bulgarian State Railways</td>\n",
       "      <td>0.125</td>\n",
       "      <td>C</td>\n",
       "      <td>0.0500</td>\n",
       "      <td>Immediat</td>\n",
       "    </tr>\n",
       "  </tbody>\n",
       "</table>\n",
       "</div>"
      ],
      "text/plain": [
       "  Designation           Potential Investment  Expected Return Rating    Risk  \\\n",
       "0          x1                    DSK account            0.040      A  0.0280   \n",
       "1          x2  Tokuda Certificate of Deposit            0.052      A  0.0208   \n",
       "2          x3          7/8 production studio            0.071     B+  0.0284   \n",
       "3          x4                     Fantastico            0.100     B+  0.0400   \n",
       "4          x5                     UBB anuity            0.082      A  0.0328   \n",
       "5          x6              Mini Pernik Bonds            0.065     B+  0.0260   \n",
       "6          x7                      BTV group            0.200      A  0.0800   \n",
       "7          x8      Bulgarian State Railways             0.125      C  0.0500   \n",
       "\n",
       "   Liquidity  \n",
       "0  Immediate  \n",
       "1     5-year  \n",
       "2  Immediate  \n",
       "3  Immediate  \n",
       "4     1-year  \n",
       "5     1-year  \n",
       "6  Immediate  \n",
       "7   Immediat  "
      ]
     },
     "execution_count": 478,
     "metadata": {},
     "output_type": "execute_result"
    }
   ],
   "source": [
    "inv_options = pd.read_csv(\"test_file_lp.csv\",delimiter=';')\n",
    "inv_options"
   ]
  },
  {
   "cell_type": "markdown",
   "id": "ccdc4571",
   "metadata": {},
   "source": [
    "Lest strat with our demands towards our portfolio, which will be the constraints of the model.\n",
    "\n",
    "We have worked hard for several years and we have saved $30,000$ levs but we see that the inflation is eating them away if we keep them under our matrice so we decide to start investing with them.\n",
    "\n",
    "$Constraint$ 1: $\\sum_{i=1}^{8}x_{i}=30,000$\n",
    "\n",
    "We believe financial analysts know what they are doing when they grade the investments and we want to have at least half of our investments in 'A' grade stocks.\n",
    "\n",
    "$Constraint 2$: $x_{1}+x_{2}+x_{5}+x_{7} \\ge 15,000$\n",
    "\n",
    "Although our salary covers our needs we do not have a health insurance and want to be able to cash out $10,000$ at any time.\n",
    "\n",
    "$Constraint$ 3: $x_{1}+x_{3}+x_{4}+x_{7}+x_{8}\\geq10,000$\n",
    "\n",
    "Although, we like the adrenaline rush that investing brings, our main motivation is profit, so we want to put a constraint on the risk we are willing to take.\n",
    "\n",
    "$Constraint 4$: $\\sum_{i=1}^{8}x_{i}j_{i}\\leq696$ where $i$ is the investment and $j$ is the coresponding risk associated with it\n",
    "\n",
    "Now that we have all of our conditions/constraints in place, we can think how can we achieve the highest possible profit while obeying the constraints:\n",
    "\n",
    "\n",
    "$Maximize  \\sum_{i=1}^{8}x_{i}r_{i}$  where $i$ is the investment and $r$ is the return\n",
    "\n",
    "After we have all of the building bloks of our project in place we can start coding the problem"
   ]
  },
  {
   "cell_type": "code",
   "execution_count": 479,
   "id": "aa3df7d8",
   "metadata": {},
   "outputs": [
    {
     "data": {
      "text/html": [
       "<div>\n",
       "<style scoped>\n",
       "    .dataframe tbody tr th:only-of-type {\n",
       "        vertical-align: middle;\n",
       "    }\n",
       "\n",
       "    .dataframe tbody tr th {\n",
       "        vertical-align: top;\n",
       "    }\n",
       "\n",
       "    .dataframe thead th {\n",
       "        text-align: right;\n",
       "    }\n",
       "</style>\n",
       "<table border=\"1\" class=\"dataframe\">\n",
       "  <thead>\n",
       "    <tr style=\"text-align: right;\">\n",
       "      <th></th>\n",
       "      <th>Designation</th>\n",
       "      <th>Potential Investment</th>\n",
       "      <th>Expected Return</th>\n",
       "      <th>Rating</th>\n",
       "      <th>Risk</th>\n",
       "      <th>Liquidity</th>\n",
       "      <th>Amt_Invested</th>\n",
       "    </tr>\n",
       "  </thead>\n",
       "  <tbody>\n",
       "    <tr>\n",
       "      <th>0</th>\n",
       "      <td>x1</td>\n",
       "      <td>DSK account</td>\n",
       "      <td>0.040</td>\n",
       "      <td>1</td>\n",
       "      <td>0.0280</td>\n",
       "      <td>1</td>\n",
       "      <td>1</td>\n",
       "    </tr>\n",
       "    <tr>\n",
       "      <th>1</th>\n",
       "      <td>x2</td>\n",
       "      <td>Tokuda Certificate of Deposit</td>\n",
       "      <td>0.052</td>\n",
       "      <td>1</td>\n",
       "      <td>0.0208</td>\n",
       "      <td>0</td>\n",
       "      <td>1</td>\n",
       "    </tr>\n",
       "    <tr>\n",
       "      <th>2</th>\n",
       "      <td>x3</td>\n",
       "      <td>7/8 production studio</td>\n",
       "      <td>0.071</td>\n",
       "      <td>0</td>\n",
       "      <td>0.0284</td>\n",
       "      <td>1</td>\n",
       "      <td>1</td>\n",
       "    </tr>\n",
       "    <tr>\n",
       "      <th>3</th>\n",
       "      <td>x4</td>\n",
       "      <td>Fantastico</td>\n",
       "      <td>0.100</td>\n",
       "      <td>0</td>\n",
       "      <td>0.0400</td>\n",
       "      <td>1</td>\n",
       "      <td>1</td>\n",
       "    </tr>\n",
       "    <tr>\n",
       "      <th>4</th>\n",
       "      <td>x5</td>\n",
       "      <td>UBB anuity</td>\n",
       "      <td>0.082</td>\n",
       "      <td>1</td>\n",
       "      <td>0.0328</td>\n",
       "      <td>0</td>\n",
       "      <td>1</td>\n",
       "    </tr>\n",
       "    <tr>\n",
       "      <th>5</th>\n",
       "      <td>x6</td>\n",
       "      <td>Mini Pernik Bonds</td>\n",
       "      <td>0.065</td>\n",
       "      <td>0</td>\n",
       "      <td>0.0260</td>\n",
       "      <td>0</td>\n",
       "      <td>1</td>\n",
       "    </tr>\n",
       "    <tr>\n",
       "      <th>6</th>\n",
       "      <td>x7</td>\n",
       "      <td>BTV group</td>\n",
       "      <td>0.200</td>\n",
       "      <td>1</td>\n",
       "      <td>0.0800</td>\n",
       "      <td>1</td>\n",
       "      <td>1</td>\n",
       "    </tr>\n",
       "    <tr>\n",
       "      <th>7</th>\n",
       "      <td>x8</td>\n",
       "      <td>Bulgarian State Railways</td>\n",
       "      <td>0.125</td>\n",
       "      <td>0</td>\n",
       "      <td>0.0500</td>\n",
       "      <td>0</td>\n",
       "      <td>1</td>\n",
       "    </tr>\n",
       "  </tbody>\n",
       "</table>\n",
       "</div>"
      ],
      "text/plain": [
       "  Designation           Potential Investment  Expected Return  Rating    Risk  \\\n",
       "0          x1                    DSK account            0.040       1  0.0280   \n",
       "1          x2  Tokuda Certificate of Deposit            0.052       1  0.0208   \n",
       "2          x3          7/8 production studio            0.071       0  0.0284   \n",
       "3          x4                     Fantastico            0.100       0  0.0400   \n",
       "4          x5                     UBB anuity            0.082       1  0.0328   \n",
       "5          x6              Mini Pernik Bonds            0.065       0  0.0260   \n",
       "6          x7                      BTV group            0.200       1  0.0800   \n",
       "7          x8      Bulgarian State Railways             0.125       0  0.0500   \n",
       "\n",
       "   Liquidity  Amt_Invested  \n",
       "0          1             1  \n",
       "1          0             1  \n",
       "2          1             1  \n",
       "3          1             1  \n",
       "4          0             1  \n",
       "5          0             1  \n",
       "6          1             1  \n",
       "7          0             1  "
      ]
     },
     "execution_count": 479,
     "metadata": {},
     "output_type": "execute_result"
    }
   ],
   "source": [
    "#Qantifying liquidity\n",
    "inv_options['Liquidity'] = (inv_options['Liquidity']=='Immediate')\n",
    "inv_options['Liquidity'] = inv_options['Liquidity'].astype(int)\n",
    "\n",
    "#Quantifying Investment rating \n",
    "inv_options['Rating'] = (inv_options['Rating']=='A')\n",
    "inv_options['Rating']= inv_options['Rating'].astype(int)\n",
    "\n",
    "\n",
    "amt_invested = [1]*8\n",
    "inv_options['Amt_Invested'] = amt_invested\n",
    "inv_options\n"
   ]
  },
  {
   "cell_type": "code",
   "execution_count": 507,
   "id": "1e9a5dd6",
   "metadata": {},
   "outputs": [
    {
     "data": {
      "text/plain": [
       "Portfolio_Opt:\n",
       "MAXIMIZE\n",
       "0.071*Potential_Investment_7_8_production_studio + 0.2*Potential_Investment_BTV_group + 0.125*Potential_Investment_Bulgarian_State_Railways_ + 0.04*Potential_Investment_DSK_account + 0.1*Potential_Investment_Fantastico + 0.065*Potential_Investment_Mini_Pernik_Bonds + 0.052*Potential_Investment_Tokuda_Certificate_of_Deposit + 0.082*Potential_Investment_UBB_anuity + 0.0\n",
       "SUBJECT TO\n",
       "Investments: Potential_Investment_7_8_production_studio\n",
       " + Potential_Investment_BTV_group\n",
       " + Potential_Investment_Bulgarian_State_Railways_\n",
       " + Potential_Investment_DSK_account + Potential_Investment_Fantastico\n",
       " + Potential_Investment_Mini_Pernik_Bonds\n",
       " + Potential_Investment_Tokuda_Certificate_of_Deposit\n",
       " + Potential_Investment_UBB_anuity = 30000\n",
       "\n",
       "Ratings: Potential_Investment_BTV_group + Potential_Investment_DSK_account\n",
       " + Potential_Investment_Tokuda_Certificate_of_Deposit\n",
       " + Potential_Investment_UBB_anuity >= 15000\n",
       "\n",
       "Liquidity: Potential_Investment_7_8_production_studio\n",
       " + Potential_Investment_BTV_group + Potential_Investment_DSK_account\n",
       " + Potential_Investment_Fantastico >= 10000\n",
       "\n",
       "Risk: 0.0284 Potential_Investment_7_8_production_studio\n",
       " + 0.08 Potential_Investment_BTV_group\n",
       " + 0.05 Potential_Investment_Bulgarian_State_Railways_\n",
       " + 0.028 Potential_Investment_DSK_account\n",
       " + 0.04 Potential_Investment_Fantastico\n",
       " + 0.026 Potential_Investment_Mini_Pernik_Bonds\n",
       " + 0.0208 Potential_Investment_Tokuda_Certificate_of_Deposit\n",
       " + 0.0328 Potential_Investment_UBB_anuity <= 696\n",
       "\n",
       "VARIABLES\n",
       "Potential_Investment_7_8_production_studio Continuous\n",
       "Potential_Investment_BTV_group Continuous\n",
       "Potential_Investment_Bulgarian_State_Railways_ Continuous\n",
       "Potential_Investment_DSK_account Continuous\n",
       "Potential_Investment_Fantastico Continuous\n",
       "Potential_Investment_Mini_Pernik_Bonds Continuous\n",
       "Potential_Investment_Tokuda_Certificate_of_Deposit Continuous\n",
       "Potential_Investment_UBB_anuity Continuous"
      ]
     },
     "execution_count": 507,
     "metadata": {},
     "output_type": "execute_result"
    }
   ],
   "source": [
    "inv_problem = LpProblem(\"Portfolio_Opt\",LpMaximize)\n",
    "\n",
    "#Create a list of the investment items\n",
    "inv_items = list(inv_options['Potential Investment'])\n",
    "risks = dict(zip(inv_items,inv_options['Risk']))\n",
    "returns = dict(zip(inv_items,inv_options['Expected Return']))\n",
    "ratings = dict(zip(inv_items,inv_options['Rating']))\n",
    "liquidity = dict(zip(inv_items,inv_options['Liquidity']))\n",
    "amt = dict(zip(inv_items,inv_options['Amt_Invested']))\n",
    "\n",
    "\n",
    "inv_vars = LpVariable.dicts(\"Potential Investment\",inv_items,lowBound=0,cat='Continuous')\n",
    "\n",
    "inv_problem += lpSum([returns[i]*inv_vars[i] for i in inv_items])\n",
    "\n",
    "#Constraints\n",
    "inv_problem += lpSum([amt[f] * inv_vars[f] for f in inv_items]) == 30000, \"Investments\" \n",
    "inv_problem += lpSum([ratings[f] * inv_vars[f] for f in inv_items]) >= 15000, \"Ratings\"\n",
    "inv_problem += lpSum([liquidity[f] * inv_vars[f] for f in inv_items]) >= 10000, \"Liquidity\"\n",
    "inv_problem += lpSum([risks[f] * inv_vars[f] for f in inv_items]) <= 696, \"Risk\"\n",
    "\n",
    "inv_problem"
   ]
  },
  {
   "cell_type": "code",
   "execution_count": 505,
   "id": "737ad2b3",
   "metadata": {},
   "outputs": [
    {
     "data": {
      "text/plain": [
       "1"
      ]
     },
     "execution_count": 505,
     "metadata": {},
     "output_type": "execute_result"
    }
   ],
   "source": [
    "inv_problem.solve()"
   ]
  },
  {
   "cell_type": "code",
   "execution_count": 506,
   "id": "bc9e576c",
   "metadata": {},
   "outputs": [
    {
     "name": "stdout",
     "output_type": "stream",
     "text": [
      "The optimal portfolio consists of\n",
      "--------------------------------------------------------------------------------------------------------------\n",
      "Potential_Investment_DSK_account = 10000.0\n",
      "Potential_Investment_Tokuda_Certificate_of_Deposit = 20000.0\n"
     ]
    }
   ],
   "source": [
    "inv_problem.writeLP(\"Portfolio_Opt.lp\")\n",
    "print(\"The optimal portfolio consists of\\n\"+\"-\"*110)\n",
    "var_inv_list=[]\n",
    "for v in inv_problem.variables():\n",
    "    var_inv_list.append(v.varValue)\n",
    "    if v.varValue>0:\n",
    "        print(v.name, \"=\", v.varValue)"
   ]
  },
  {
   "cell_type": "markdown",
   "id": "59cc99fe",
   "metadata": {},
   "source": [
    "### Testing the model \n",
    "\n",
    "Grand! We have reached a solution, however we still need to put the model to a test to ensure its effectiveness.\n",
    "Lets create a function that generates random values for our decision variables. We will of course take into consideration the constraints when designing it. After we are finished we will create a trial between the test function and the PuLP solver and see which one provides better results. "
   ]
  },
  {
   "cell_type": "code",
   "execution_count": 625,
   "id": "4675adf8",
   "metadata": {},
   "outputs": [],
   "source": [
    "def model_testing(number_of_varaibles, maximum_investment,risk):\n",
    "    test_variables = np.random.randint(0,maximum_investment,number_of_varaibles)\n",
    "    test_variables = (test_variables/sum(test_variables))*maximum_investment\n",
    "    \n",
    "    while test_variables@risk>696 and np.sum(test_variables[[0,1,4,6]]) <15000 and np.sum(test_variables[[0,2,3,6,7]]) < 10000 :\n",
    "        model_testing(number_of_varaibles,maximum_investment,risk)\n",
    "\n",
    "    return test_variables"
   ]
  },
  {
   "cell_type": "markdown",
   "id": "aafa8560",
   "metadata": {},
   "source": [
    "Unfortunately the code for the testing model gives a deffect as the produced arrays have bigger risk than the one in the condition in the function"
   ]
  },
  {
   "cell_type": "code",
   "execution_count": 630,
   "id": "78884a17",
   "metadata": {},
   "outputs": [
    {
     "data": {
      "text/plain": [
       "1079.8910075139372"
      ]
     },
     "execution_count": 630,
     "metadata": {},
     "output_type": "execute_result"
    }
   ],
   "source": [
    "test = model_testing(inv_options.shape[0],30000,inv_options[\"Risk\"])\n",
    "np.dot(test,inv_options[\"Risk\"])"
   ]
  },
  {
   "cell_type": "markdown",
   "id": "743cd239",
   "metadata": {},
   "source": [
    "### Conclusion\n",
    "\n",
    "\n",
    "Although a testing of the model did not occur due to technical issues we have managed to cover the foundations of one of the cornerstone methods in optimization  - linear programming. We started from simple theoretical examples and we saw how quickly and easiliy they can be solved in python. We got introduced to the Simplex algorithm and solved a problem with it. \n",
    "\n",
    "However much research is yet to be done. In our practical example we optmized our investments structuring the problem as a linear programming one. In reality however the financial optimizaiton problems are not linear and require more sophisticated methods of optimization, such as quadratic or convex optimization. Furthermore a way of testing the models wil be researched, or created. Finally the data used in future research can and should be taken from some source instead of being simulated. "
   ]
  },
  {
   "cell_type": "markdown",
   "id": "851bbf61",
   "metadata": {},
   "source": [
    "### Resources\n",
    "1. Sukanta Nayak. (2020). Fundamentals of optimization techniques with algorithms. London, United Kingdom ; San Diego, Ca, United States: Academic Press Is An Imprint Of Elsevier.\n",
    "2. H  Paul Williams, & Wiley, J. (2013). Model building in mathematical programming. Chichester: Wiley, Cop.\n",
    "3. Simplex Algorithm - an overview | ScienceDirect Topics. (2021, July 13). Retrieved May 22, 2022, from www.sciencedirect.com website: https://www.sciencedirect.com/topics/computer-science/simplex-algorithm#:~:text=4.5.&text=The%20simplex%20algorithm%2C%20developed%20by\n",
    "4. pchtsp. (2021, May 2). python - Algorithm behind standard pulp solver. Retrieved May 22, 2022, from Stack Overflow website: https://stackoverflow.com/questions/67359004/algorithm-behind-standard-pulp-solver\n",
    "5. Optimization with PuLP — PuLP 2.6.0 documentation. (n.d.). Retrieved May 22, 2022, from coin-or.github.io website: https://coin-or.github.io/pulp/index.html\n",
    "6. Saad, L. (2019, September 13). What Percentage of Americans Owns Stock? Retrieved from Gallup.com website: https://news.gallup.com/poll/266807/percentage-americans-owns-stock.aspx\n",
    "7. Chanda, S. (2021, September). 5 reasons why most people lose money in the stock market? Retrieved May 24, 2022, from www.linkedin.com website: https://www.linkedin.com/pulse/5-reasons-why-most-people-lose-money-stock-market-sumit-chanda/?trk=articles_directory.\n",
    "8. Savov, I. S. (2020, August). Linear Programming Tutorial. Ivan Savov. https://minireference.github.io/linear_programming/tutorial.pdf\n",
    "9.Wikipedia contributors. (2022, May 10). Slack variable. Wikipedia. https://en.wikipedia.org/wiki/Slack_variable#:%7E:text=If%20a%20slack%20variable%20is,does%20not%20satisfy%20the%20constraint."
   ]
  }
 ],
 "metadata": {
  "kernelspec": {
   "display_name": "Python 3",
   "language": "python",
   "name": "python3"
  },
  "language_info": {
   "codemirror_mode": {
    "name": "ipython",
    "version": 3
   },
   "file_extension": ".py",
   "mimetype": "text/x-python",
   "name": "python",
   "nbconvert_exporter": "python",
   "pygments_lexer": "ipython3",
   "version": "3.8.8"
  }
 },
 "nbformat": 4,
 "nbformat_minor": 5
}
